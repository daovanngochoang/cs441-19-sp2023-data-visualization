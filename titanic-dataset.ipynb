{
 "cells": [
  {
   "cell_type": "code",
   "execution_count": 1,
   "id": "3a8ea9b4",
   "metadata": {
    "_cell_guid": "b1076dfc-b9ad-4769-8c92-a6c4dae69d19",
    "_uuid": "8f2839f25d086af736a60e9eeb907d3b93b6e0e5",
    "execution": {
     "iopub.execute_input": "2022-10-05T12:21:41.681505Z",
     "iopub.status.busy": "2022-10-05T12:21:41.681011Z",
     "iopub.status.idle": "2022-10-05T12:21:42.995190Z",
     "shell.execute_reply": "2022-10-05T12:21:42.994054Z"
    },
    "papermill": {
     "duration": 1.327669,
     "end_time": "2022-10-05T12:21:42.998144",
     "exception": false,
     "start_time": "2022-10-05T12:21:41.670475",
     "status": "completed"
    },
    "tags": []
   },
   "outputs": [],
   "source": [
    "\n",
    "import pandas as pd\n",
    "from sklearn.impute import SimpleImputer\n",
    "import numpy as np\n",
    "from sklearn.preprocessing import LabelEncoder\n",
    "from sklearn.preprocessing import StandardScaler\n",
    "\n",
    "from sklearn.metrics import auc, accuracy_score, confusion_matrix, mean_squared_error\n",
    "from sklearn.model_selection import cross_val_score, GridSearchCV, KFold, RandomizedSearchCV, train_test_split\n",
    "\n",
    "from sklearn.linear_model import LogisticRegression\n",
    "from sklearn.ensemble import RandomForestClassifier\n",
    "\n",
    "\n",
    "\n",
    "\n",
    "\n",
    "\n",
    "\n"
   ]
  },
  {
   "cell_type": "code",
   "execution_count": 2,
   "id": "0d198d0b",
   "metadata": {
    "execution": {
     "iopub.execute_input": "2022-10-05T12:21:43.016709Z",
     "iopub.status.busy": "2022-10-05T12:21:43.016345Z",
     "iopub.status.idle": "2022-10-05T12:21:43.045131Z",
     "shell.execute_reply": "2022-10-05T12:21:43.044189Z"
    },
    "papermill": {
     "duration": 0.040715,
     "end_time": "2022-10-05T12:21:43.047632",
     "exception": false,
     "start_time": "2022-10-05T12:21:43.006917",
     "status": "completed"
    },
    "tags": []
   },
   "outputs": [],
   "source": [
    "\n",
    "# Read data\n",
    "train_data_frame = pd.read_csv(\"../input/titanic/train.csv\")\n",
    "test_data_frame = pd.read_csv(\"../input/titanic/test.csv\")\n"
   ]
  },
  {
   "cell_type": "code",
   "execution_count": 3,
   "id": "14930bb6",
   "metadata": {
    "execution": {
     "iopub.execute_input": "2022-10-05T12:21:43.065463Z",
     "iopub.status.busy": "2022-10-05T12:21:43.065115Z",
     "iopub.status.idle": "2022-10-05T12:21:43.117926Z",
     "shell.execute_reply": "2022-10-05T12:21:43.116761Z"
    },
    "papermill": {
     "duration": 0.064244,
     "end_time": "2022-10-05T12:21:43.120247",
     "exception": false,
     "start_time": "2022-10-05T12:21:43.056003",
     "status": "completed"
    },
    "tags": []
   },
   "outputs": [
    {
     "data": {
      "text/html": [
       "<div>\n",
       "<style scoped>\n",
       "    .dataframe tbody tr th:only-of-type {\n",
       "        vertical-align: middle;\n",
       "    }\n",
       "\n",
       "    .dataframe tbody tr th {\n",
       "        vertical-align: top;\n",
       "    }\n",
       "\n",
       "    .dataframe thead th {\n",
       "        text-align: right;\n",
       "    }\n",
       "</style>\n",
       "<table border=\"1\" class=\"dataframe\">\n",
       "  <thead>\n",
       "    <tr style=\"text-align: right;\">\n",
       "      <th></th>\n",
       "      <th>PassengerId</th>\n",
       "      <th>Survived</th>\n",
       "      <th>Pclass</th>\n",
       "      <th>Age</th>\n",
       "      <th>SibSp</th>\n",
       "      <th>Parch</th>\n",
       "      <th>Fare</th>\n",
       "    </tr>\n",
       "  </thead>\n",
       "  <tbody>\n",
       "    <tr>\n",
       "      <th>count</th>\n",
       "      <td>891.000000</td>\n",
       "      <td>891.000000</td>\n",
       "      <td>891.000000</td>\n",
       "      <td>714.000000</td>\n",
       "      <td>891.000000</td>\n",
       "      <td>891.000000</td>\n",
       "      <td>891.000000</td>\n",
       "    </tr>\n",
       "    <tr>\n",
       "      <th>mean</th>\n",
       "      <td>446.000000</td>\n",
       "      <td>0.383838</td>\n",
       "      <td>2.308642</td>\n",
       "      <td>29.699118</td>\n",
       "      <td>0.523008</td>\n",
       "      <td>0.381594</td>\n",
       "      <td>32.204208</td>\n",
       "    </tr>\n",
       "    <tr>\n",
       "      <th>std</th>\n",
       "      <td>257.353842</td>\n",
       "      <td>0.486592</td>\n",
       "      <td>0.836071</td>\n",
       "      <td>14.526497</td>\n",
       "      <td>1.102743</td>\n",
       "      <td>0.806057</td>\n",
       "      <td>49.693429</td>\n",
       "    </tr>\n",
       "    <tr>\n",
       "      <th>min</th>\n",
       "      <td>1.000000</td>\n",
       "      <td>0.000000</td>\n",
       "      <td>1.000000</td>\n",
       "      <td>0.420000</td>\n",
       "      <td>0.000000</td>\n",
       "      <td>0.000000</td>\n",
       "      <td>0.000000</td>\n",
       "    </tr>\n",
       "    <tr>\n",
       "      <th>25%</th>\n",
       "      <td>223.500000</td>\n",
       "      <td>0.000000</td>\n",
       "      <td>2.000000</td>\n",
       "      <td>20.125000</td>\n",
       "      <td>0.000000</td>\n",
       "      <td>0.000000</td>\n",
       "      <td>7.910400</td>\n",
       "    </tr>\n",
       "    <tr>\n",
       "      <th>50%</th>\n",
       "      <td>446.000000</td>\n",
       "      <td>0.000000</td>\n",
       "      <td>3.000000</td>\n",
       "      <td>28.000000</td>\n",
       "      <td>0.000000</td>\n",
       "      <td>0.000000</td>\n",
       "      <td>14.454200</td>\n",
       "    </tr>\n",
       "    <tr>\n",
       "      <th>75%</th>\n",
       "      <td>668.500000</td>\n",
       "      <td>1.000000</td>\n",
       "      <td>3.000000</td>\n",
       "      <td>38.000000</td>\n",
       "      <td>1.000000</td>\n",
       "      <td>0.000000</td>\n",
       "      <td>31.000000</td>\n",
       "    </tr>\n",
       "    <tr>\n",
       "      <th>max</th>\n",
       "      <td>891.000000</td>\n",
       "      <td>1.000000</td>\n",
       "      <td>3.000000</td>\n",
       "      <td>80.000000</td>\n",
       "      <td>8.000000</td>\n",
       "      <td>6.000000</td>\n",
       "      <td>512.329200</td>\n",
       "    </tr>\n",
       "  </tbody>\n",
       "</table>\n",
       "</div>"
      ],
      "text/plain": [
       "       PassengerId    Survived      Pclass         Age       SibSp  \\\n",
       "count   891.000000  891.000000  891.000000  714.000000  891.000000   \n",
       "mean    446.000000    0.383838    2.308642   29.699118    0.523008   \n",
       "std     257.353842    0.486592    0.836071   14.526497    1.102743   \n",
       "min       1.000000    0.000000    1.000000    0.420000    0.000000   \n",
       "25%     223.500000    0.000000    2.000000   20.125000    0.000000   \n",
       "50%     446.000000    0.000000    3.000000   28.000000    0.000000   \n",
       "75%     668.500000    1.000000    3.000000   38.000000    1.000000   \n",
       "max     891.000000    1.000000    3.000000   80.000000    8.000000   \n",
       "\n",
       "            Parch        Fare  \n",
       "count  891.000000  891.000000  \n",
       "mean     0.381594   32.204208  \n",
       "std      0.806057   49.693429  \n",
       "min      0.000000    0.000000  \n",
       "25%      0.000000    7.910400  \n",
       "50%      0.000000   14.454200  \n",
       "75%      0.000000   31.000000  \n",
       "max      6.000000  512.329200  "
      ]
     },
     "execution_count": 3,
     "metadata": {},
     "output_type": "execute_result"
    }
   ],
   "source": [
    "train_data_frame.describe()\n"
   ]
  },
  {
   "cell_type": "code",
   "execution_count": 4,
   "id": "75e111fd",
   "metadata": {
    "execution": {
     "iopub.execute_input": "2022-10-05T12:21:43.138418Z",
     "iopub.status.busy": "2022-10-05T12:21:43.137987Z",
     "iopub.status.idle": "2022-10-05T12:21:43.154371Z",
     "shell.execute_reply": "2022-10-05T12:21:43.153415Z"
    },
    "papermill": {
     "duration": 0.027649,
     "end_time": "2022-10-05T12:21:43.156464",
     "exception": false,
     "start_time": "2022-10-05T12:21:43.128815",
     "status": "completed"
    },
    "tags": []
   },
   "outputs": [
    {
     "data": {
      "text/html": [
       "<div>\n",
       "<style scoped>\n",
       "    .dataframe tbody tr th:only-of-type {\n",
       "        vertical-align: middle;\n",
       "    }\n",
       "\n",
       "    .dataframe tbody tr th {\n",
       "        vertical-align: top;\n",
       "    }\n",
       "\n",
       "    .dataframe thead th {\n",
       "        text-align: right;\n",
       "    }\n",
       "</style>\n",
       "<table border=\"1\" class=\"dataframe\">\n",
       "  <thead>\n",
       "    <tr style=\"text-align: right;\">\n",
       "      <th></th>\n",
       "      <th>PassengerId</th>\n",
       "      <th>Survived</th>\n",
       "      <th>Pclass</th>\n",
       "      <th>Name</th>\n",
       "      <th>Sex</th>\n",
       "      <th>Age</th>\n",
       "      <th>SibSp</th>\n",
       "      <th>Parch</th>\n",
       "      <th>Ticket</th>\n",
       "      <th>Fare</th>\n",
       "      <th>Cabin</th>\n",
       "      <th>Embarked</th>\n",
       "    </tr>\n",
       "  </thead>\n",
       "  <tbody>\n",
       "    <tr>\n",
       "      <th>0</th>\n",
       "      <td>1</td>\n",
       "      <td>0</td>\n",
       "      <td>3</td>\n",
       "      <td>Braund, Mr. Owen Harris</td>\n",
       "      <td>male</td>\n",
       "      <td>22.0</td>\n",
       "      <td>1</td>\n",
       "      <td>0</td>\n",
       "      <td>A/5 21171</td>\n",
       "      <td>7.2500</td>\n",
       "      <td>NaN</td>\n",
       "      <td>S</td>\n",
       "    </tr>\n",
       "    <tr>\n",
       "      <th>1</th>\n",
       "      <td>2</td>\n",
       "      <td>1</td>\n",
       "      <td>1</td>\n",
       "      <td>Cumings, Mrs. John Bradley (Florence Briggs Th...</td>\n",
       "      <td>female</td>\n",
       "      <td>38.0</td>\n",
       "      <td>1</td>\n",
       "      <td>0</td>\n",
       "      <td>PC 17599</td>\n",
       "      <td>71.2833</td>\n",
       "      <td>C85</td>\n",
       "      <td>C</td>\n",
       "    </tr>\n",
       "    <tr>\n",
       "      <th>2</th>\n",
       "      <td>3</td>\n",
       "      <td>1</td>\n",
       "      <td>3</td>\n",
       "      <td>Heikkinen, Miss. Laina</td>\n",
       "      <td>female</td>\n",
       "      <td>26.0</td>\n",
       "      <td>0</td>\n",
       "      <td>0</td>\n",
       "      <td>STON/O2. 3101282</td>\n",
       "      <td>7.9250</td>\n",
       "      <td>NaN</td>\n",
       "      <td>S</td>\n",
       "    </tr>\n",
       "    <tr>\n",
       "      <th>3</th>\n",
       "      <td>4</td>\n",
       "      <td>1</td>\n",
       "      <td>1</td>\n",
       "      <td>Futrelle, Mrs. Jacques Heath (Lily May Peel)</td>\n",
       "      <td>female</td>\n",
       "      <td>35.0</td>\n",
       "      <td>1</td>\n",
       "      <td>0</td>\n",
       "      <td>113803</td>\n",
       "      <td>53.1000</td>\n",
       "      <td>C123</td>\n",
       "      <td>S</td>\n",
       "    </tr>\n",
       "    <tr>\n",
       "      <th>4</th>\n",
       "      <td>5</td>\n",
       "      <td>0</td>\n",
       "      <td>3</td>\n",
       "      <td>Allen, Mr. William Henry</td>\n",
       "      <td>male</td>\n",
       "      <td>35.0</td>\n",
       "      <td>0</td>\n",
       "      <td>0</td>\n",
       "      <td>373450</td>\n",
       "      <td>8.0500</td>\n",
       "      <td>NaN</td>\n",
       "      <td>S</td>\n",
       "    </tr>\n",
       "  </tbody>\n",
       "</table>\n",
       "</div>"
      ],
      "text/plain": [
       "   PassengerId  Survived  Pclass  \\\n",
       "0            1         0       3   \n",
       "1            2         1       1   \n",
       "2            3         1       3   \n",
       "3            4         1       1   \n",
       "4            5         0       3   \n",
       "\n",
       "                                                Name     Sex   Age  SibSp  \\\n",
       "0                            Braund, Mr. Owen Harris    male  22.0      1   \n",
       "1  Cumings, Mrs. John Bradley (Florence Briggs Th...  female  38.0      1   \n",
       "2                             Heikkinen, Miss. Laina  female  26.0      0   \n",
       "3       Futrelle, Mrs. Jacques Heath (Lily May Peel)  female  35.0      1   \n",
       "4                           Allen, Mr. William Henry    male  35.0      0   \n",
       "\n",
       "   Parch            Ticket     Fare Cabin Embarked  \n",
       "0      0         A/5 21171   7.2500   NaN        S  \n",
       "1      0          PC 17599  71.2833   C85        C  \n",
       "2      0  STON/O2. 3101282   7.9250   NaN        S  \n",
       "3      0            113803  53.1000  C123        S  \n",
       "4      0            373450   8.0500   NaN        S  "
      ]
     },
     "execution_count": 4,
     "metadata": {},
     "output_type": "execute_result"
    }
   ],
   "source": [
    "train_data_frame.head()\n"
   ]
  },
  {
   "cell_type": "code",
   "execution_count": 5,
   "id": "40165dca",
   "metadata": {
    "execution": {
     "iopub.execute_input": "2022-10-05T12:21:43.175503Z",
     "iopub.status.busy": "2022-10-05T12:21:43.175084Z",
     "iopub.status.idle": "2022-10-05T12:21:43.181037Z",
     "shell.execute_reply": "2022-10-05T12:21:43.179887Z"
    },
    "papermill": {
     "duration": 0.01808,
     "end_time": "2022-10-05T12:21:43.183187",
     "exception": false,
     "start_time": "2022-10-05T12:21:43.165107",
     "status": "completed"
    },
    "tags": []
   },
   "outputs": [
    {
     "name": "stdout",
     "output_type": "stream",
     "text": [
      "(891, 12) (418, 11)\n"
     ]
    }
   ],
   "source": [
    "print(train_data_frame.shape, test_data_frame.shape)"
   ]
  },
  {
   "cell_type": "code",
   "execution_count": 6,
   "id": "85388db5",
   "metadata": {
    "execution": {
     "iopub.execute_input": "2022-10-05T12:21:43.203584Z",
     "iopub.status.busy": "2022-10-05T12:21:43.203155Z",
     "iopub.status.idle": "2022-10-05T12:21:43.207535Z",
     "shell.execute_reply": "2022-10-05T12:21:43.206544Z"
    },
    "papermill": {
     "duration": 0.016235,
     "end_time": "2022-10-05T12:21:43.209608",
     "exception": false,
     "start_time": "2022-10-05T12:21:43.193373",
     "status": "completed"
    },
    "tags": []
   },
   "outputs": [],
   "source": [
    "significant_features = [\"Sex\",\"Age\",\"SibSp\" ,\"Parch\",\"Survived\"]"
   ]
  },
  {
   "cell_type": "code",
   "execution_count": 7,
   "id": "d9fd0d24",
   "metadata": {
    "execution": {
     "iopub.execute_input": "2022-10-05T12:21:43.228297Z",
     "iopub.status.busy": "2022-10-05T12:21:43.227980Z",
     "iopub.status.idle": "2022-10-05T12:21:43.243462Z",
     "shell.execute_reply": "2022-10-05T12:21:43.242669Z"
    },
    "papermill": {
     "duration": 0.026949,
     "end_time": "2022-10-05T12:21:43.245252",
     "exception": false,
     "start_time": "2022-10-05T12:21:43.218303",
     "status": "completed"
    },
    "tags": []
   },
   "outputs": [
    {
     "data": {
      "text/html": [
       "<div>\n",
       "<style scoped>\n",
       "    .dataframe tbody tr th:only-of-type {\n",
       "        vertical-align: middle;\n",
       "    }\n",
       "\n",
       "    .dataframe tbody tr th {\n",
       "        vertical-align: top;\n",
       "    }\n",
       "\n",
       "    .dataframe thead th {\n",
       "        text-align: right;\n",
       "    }\n",
       "</style>\n",
       "<table border=\"1\" class=\"dataframe\">\n",
       "  <thead>\n",
       "    <tr style=\"text-align: right;\">\n",
       "      <th></th>\n",
       "      <th>Sex</th>\n",
       "      <th>Age</th>\n",
       "      <th>SibSp</th>\n",
       "      <th>Parch</th>\n",
       "      <th>Survived</th>\n",
       "    </tr>\n",
       "  </thead>\n",
       "  <tbody>\n",
       "    <tr>\n",
       "      <th>0</th>\n",
       "      <td>male</td>\n",
       "      <td>22.0</td>\n",
       "      <td>1</td>\n",
       "      <td>0</td>\n",
       "      <td>0</td>\n",
       "    </tr>\n",
       "    <tr>\n",
       "      <th>1</th>\n",
       "      <td>female</td>\n",
       "      <td>38.0</td>\n",
       "      <td>1</td>\n",
       "      <td>0</td>\n",
       "      <td>1</td>\n",
       "    </tr>\n",
       "    <tr>\n",
       "      <th>2</th>\n",
       "      <td>female</td>\n",
       "      <td>26.0</td>\n",
       "      <td>0</td>\n",
       "      <td>0</td>\n",
       "      <td>1</td>\n",
       "    </tr>\n",
       "    <tr>\n",
       "      <th>3</th>\n",
       "      <td>female</td>\n",
       "      <td>35.0</td>\n",
       "      <td>1</td>\n",
       "      <td>0</td>\n",
       "      <td>1</td>\n",
       "    </tr>\n",
       "    <tr>\n",
       "      <th>4</th>\n",
       "      <td>male</td>\n",
       "      <td>35.0</td>\n",
       "      <td>0</td>\n",
       "      <td>0</td>\n",
       "      <td>0</td>\n",
       "    </tr>\n",
       "    <tr>\n",
       "      <th>...</th>\n",
       "      <td>...</td>\n",
       "      <td>...</td>\n",
       "      <td>...</td>\n",
       "      <td>...</td>\n",
       "      <td>...</td>\n",
       "    </tr>\n",
       "    <tr>\n",
       "      <th>886</th>\n",
       "      <td>male</td>\n",
       "      <td>27.0</td>\n",
       "      <td>0</td>\n",
       "      <td>0</td>\n",
       "      <td>0</td>\n",
       "    </tr>\n",
       "    <tr>\n",
       "      <th>887</th>\n",
       "      <td>female</td>\n",
       "      <td>19.0</td>\n",
       "      <td>0</td>\n",
       "      <td>0</td>\n",
       "      <td>1</td>\n",
       "    </tr>\n",
       "    <tr>\n",
       "      <th>888</th>\n",
       "      <td>female</td>\n",
       "      <td>NaN</td>\n",
       "      <td>1</td>\n",
       "      <td>2</td>\n",
       "      <td>0</td>\n",
       "    </tr>\n",
       "    <tr>\n",
       "      <th>889</th>\n",
       "      <td>male</td>\n",
       "      <td>26.0</td>\n",
       "      <td>0</td>\n",
       "      <td>0</td>\n",
       "      <td>1</td>\n",
       "    </tr>\n",
       "    <tr>\n",
       "      <th>890</th>\n",
       "      <td>male</td>\n",
       "      <td>32.0</td>\n",
       "      <td>0</td>\n",
       "      <td>0</td>\n",
       "      <td>0</td>\n",
       "    </tr>\n",
       "  </tbody>\n",
       "</table>\n",
       "<p>891 rows × 5 columns</p>\n",
       "</div>"
      ],
      "text/plain": [
       "        Sex   Age  SibSp  Parch  Survived\n",
       "0      male  22.0      1      0         0\n",
       "1    female  38.0      1      0         1\n",
       "2    female  26.0      0      0         1\n",
       "3    female  35.0      1      0         1\n",
       "4      male  35.0      0      0         0\n",
       "..      ...   ...    ...    ...       ...\n",
       "886    male  27.0      0      0         0\n",
       "887  female  19.0      0      0         1\n",
       "888  female   NaN      1      2         0\n",
       "889    male  26.0      0      0         1\n",
       "890    male  32.0      0      0         0\n",
       "\n",
       "[891 rows x 5 columns]"
      ]
     },
     "execution_count": 7,
     "metadata": {},
     "output_type": "execute_result"
    }
   ],
   "source": [
    "training_data = train_data_frame[significant_features]\n",
    "training_data "
   ]
  },
  {
   "cell_type": "code",
   "execution_count": 8,
   "id": "39d78eeb",
   "metadata": {
    "execution": {
     "iopub.execute_input": "2022-10-05T12:21:43.264620Z",
     "iopub.status.busy": "2022-10-05T12:21:43.263925Z",
     "iopub.status.idle": "2022-10-05T12:21:43.433304Z",
     "shell.execute_reply": "2022-10-05T12:21:43.432435Z"
    },
    "papermill": {
     "duration": 0.181797,
     "end_time": "2022-10-05T12:21:43.435849",
     "exception": false,
     "start_time": "2022-10-05T12:21:43.254052",
     "status": "completed"
    },
    "tags": []
   },
   "outputs": [],
   "source": [
    "import seaborn as sns"
   ]
  },
  {
   "cell_type": "code",
   "execution_count": 9,
   "id": "5183c4ab",
   "metadata": {
    "execution": {
     "iopub.execute_input": "2022-10-05T12:21:43.455991Z",
     "iopub.status.busy": "2022-10-05T12:21:43.455626Z",
     "iopub.status.idle": "2022-10-05T12:21:43.462012Z",
     "shell.execute_reply": "2022-10-05T12:21:43.460673Z"
    },
    "papermill": {
     "duration": 0.018854,
     "end_time": "2022-10-05T12:21:43.464036",
     "exception": false,
     "start_time": "2022-10-05T12:21:43.445182",
     "status": "completed"
    },
    "tags": []
   },
   "outputs": [
    {
     "data": {
      "text/plain": [
       "'0.11.2'"
      ]
     },
     "execution_count": 9,
     "metadata": {},
     "output_type": "execute_result"
    }
   ],
   "source": [
    "sns.__version__"
   ]
  },
  {
   "cell_type": "code",
   "execution_count": 10,
   "id": "a92b5ad2",
   "metadata": {
    "execution": {
     "iopub.execute_input": "2022-10-05T12:21:43.482893Z",
     "iopub.status.busy": "2022-10-05T12:21:43.482540Z",
     "iopub.status.idle": "2022-10-05T12:21:43.810611Z",
     "shell.execute_reply": "2022-10-05T12:21:43.809798Z"
    },
    "papermill": {
     "duration": 0.340037,
     "end_time": "2022-10-05T12:21:43.812831",
     "exception": false,
     "start_time": "2022-10-05T12:21:43.472794",
     "status": "completed"
    },
    "tags": []
   },
   "outputs": [
    {
     "data": {
      "text/plain": [
       "<seaborn.axisgrid.FacetGrid at 0x7f055724b3d0>"
      ]
     },
     "execution_count": 10,
     "metadata": {},
     "output_type": "execute_result"
    },
    {
     "data": {
      "image/png": "[encoded data removed]",
      "text/plain": [
       "<Figure size 360x360 with 1 Axes>"
      ]
     },
     "metadata": {},
     "output_type": "display_data"
    }
   ],
   "source": [
    "sns.set_theme(style=\"whitegrid\", palette=\"muted\")\n",
    "\n",
    "# Draw a categorical scatterplot to show each observation\n",
    "ax = sns.catplot(data=training_data, x=\"Survived\", y=\"Age\", hue=\"Survived\")\n",
    "ax.set(ylabel=\"Age\")"
   ]
  },
  {
   "cell_type": "code",
   "execution_count": 11,
   "id": "74f639ab",
   "metadata": {
    "execution": {
     "iopub.execute_input": "2022-10-05T12:21:43.834220Z",
     "iopub.status.busy": "2022-10-05T12:21:43.833899Z",
     "iopub.status.idle": "2022-10-05T12:21:44.152882Z",
     "shell.execute_reply": "2022-10-05T12:21:44.151474Z"
    },
    "papermill": {
     "duration": 0.333242,
     "end_time": "2022-10-05T12:21:44.155728",
     "exception": false,
     "start_time": "2022-10-05T12:21:43.822486",
     "status": "completed"
    },
    "tags": []
   },
   "outputs": [
    {
     "data": {
      "text/plain": [
       "[Text(0, 0.5, 'Survived')]"
      ]
     },
     "execution_count": 11,
     "metadata": {},
     "output_type": "execute_result"
    },
    {
     "data": {
      "image/png": "[encoded data removed]",
      "text/plain": [
       "<Figure size 432x288 with 1 Axes>"
      ]
     },
     "metadata": {},
     "output_type": "display_data"
    }
   ],
   "source": [
    "# Draw a categorical scatterplot to show each observation\n",
    "ax = sns.barplot(data=training_data, x=\"Sex\", y=\"Survived\", hue=\"Sex\")\n",
    "ax.set(ylabel=\"Survived\")"
   ]
  },
  {
   "cell_type": "code",
   "execution_count": 12,
   "id": "f5fcba68",
   "metadata": {
    "execution": {
     "iopub.execute_input": "2022-10-05T12:21:44.184152Z",
     "iopub.status.busy": "2022-10-05T12:21:44.183219Z",
     "iopub.status.idle": "2022-10-05T12:21:44.784328Z",
     "shell.execute_reply": "2022-10-05T12:21:44.783364Z"
    },
    "papermill": {
     "duration": 0.619188,
     "end_time": "2022-10-05T12:21:44.786721",
     "exception": false,
     "start_time": "2022-10-05T12:21:44.167533",
     "status": "completed"
    },
    "tags": []
   },
   "outputs": [
    {
     "data": {
      "text/plain": [
       "[Text(0, 0.5, 'Survived')]"
      ]
     },
     "execution_count": 12,
     "metadata": {},
     "output_type": "execute_result"
    },
    {
     "data": {
      "image/png": "[encoded data removed]",
      "text/plain": [
       "<Figure size 432x288 with 1 Axes>"
      ]
     },
     "metadata": {},
     "output_type": "display_data"
    }
   ],
   "source": [
    "# sns.catplot(train_data_frame, x=\"SibSp\", y=\"Survived\", hue=\"Sex\", kind=\"bar\")\n",
    "ax = sns.barplot(data=training_data, x=\"SibSp\", y=\"Survived\", hue=\"Sex\")\n",
    "ax.set(ylabel=\"Survived\")"
   ]
  },
  {
   "cell_type": "code",
   "execution_count": 13,
   "id": "2e33b682",
   "metadata": {
    "execution": {
     "iopub.execute_input": "2022-10-05T12:21:44.809469Z",
     "iopub.status.busy": "2022-10-05T12:21:44.809061Z",
     "iopub.status.idle": "2022-10-05T12:21:45.395653Z",
     "shell.execute_reply": "2022-10-05T12:21:45.394602Z"
    },
    "papermill": {
     "duration": 0.600348,
     "end_time": "2022-10-05T12:21:45.397882",
     "exception": false,
     "start_time": "2022-10-05T12:21:44.797534",
     "status": "completed"
    },
    "tags": []
   },
   "outputs": [
    {
     "data": {
      "text/plain": [
       "[Text(0, 0.5, 'Survived')]"
      ]
     },
     "execution_count": 13,
     "metadata": {},
     "output_type": "execute_result"
    },
    {
     "data": {
      "image/png": "[encoded data removed]",
      "text/plain": [
       "<Figure size 432x288 with 1 Axes>"
      ]
     },
     "metadata": {},
     "output_type": "display_data"
    }
   ],
   "source": [
    "ax = sns.barplot(data=training_data, x=\"Parch\", y=\"Survived\", hue=\"Sex\")\n",
    "ax.set(ylabel=\"Survived\")"
   ]
  },
  {
   "cell_type": "code",
   "execution_count": 14,
   "id": "77a4c527",
   "metadata": {
    "execution": {
     "iopub.execute_input": "2022-10-05T12:21:45.421267Z",
     "iopub.status.busy": "2022-10-05T12:21:45.420114Z",
     "iopub.status.idle": "2022-10-05T12:21:45.428671Z",
     "shell.execute_reply": "2022-10-05T12:21:45.426930Z"
    },
    "papermill": {
     "duration": 0.022403,
     "end_time": "2022-10-05T12:21:45.431061",
     "exception": false,
     "start_time": "2022-10-05T12:21:45.408658",
     "status": "completed"
    },
    "tags": []
   },
   "outputs": [
    {
     "name": "stdout",
     "output_type": "stream",
     "text": [
      "Missing: Sex           0\n",
      "Age         177\n",
      "SibSp         0\n",
      "Parch         0\n",
      "Survived      0\n",
      "dtype: int64\n",
      "total:  891\n"
     ]
    }
   ],
   "source": [
    "print(\"Missing:\", training_data.isnull().sum())\n",
    "print(\"total: \", training_data.shape[0])"
   ]
  },
  {
   "cell_type": "code",
   "execution_count": 15,
   "id": "33353cd1",
   "metadata": {
    "execution": {
     "iopub.execute_input": "2022-10-05T12:21:45.454218Z",
     "iopub.status.busy": "2022-10-05T12:21:45.453831Z",
     "iopub.status.idle": "2022-10-05T12:21:45.458637Z",
     "shell.execute_reply": "2022-10-05T12:21:45.457640Z"
    },
    "papermill": {
     "duration": 0.018678,
     "end_time": "2022-10-05T12:21:45.460707",
     "exception": false,
     "start_time": "2022-10-05T12:21:45.442029",
     "status": "completed"
    },
    "tags": []
   },
   "outputs": [],
   "source": [
    "# Encode categorical feature \n",
    "le=LabelEncoder()\n",
    "sex_encoded = le.fit_transform(training_data[\"Sex\"])"
   ]
  },
  {
   "cell_type": "code",
   "execution_count": 16,
   "id": "adcfa03c",
   "metadata": {
    "execution": {
     "iopub.execute_input": "2022-10-05T12:21:45.482997Z",
     "iopub.status.busy": "2022-10-05T12:21:45.482635Z",
     "iopub.status.idle": "2022-10-05T12:21:45.488564Z",
     "shell.execute_reply": "2022-10-05T12:21:45.487118Z"
    },
    "papermill": {
     "duration": 0.019317,
     "end_time": "2022-10-05T12:21:45.490587",
     "exception": false,
     "start_time": "2022-10-05T12:21:45.471270",
     "status": "completed"
    },
    "tags": []
   },
   "outputs": [
    {
     "name": "stderr",
     "output_type": "stream",
     "text": [
      "/opt/conda/lib/python3.7/site-packages/ipykernel_launcher.py:1: SettingWithCopyWarning: \n",
      "A value is trying to be set on a copy of a slice from a DataFrame.\n",
      "Try using .loc[row_indexer,col_indexer] = value instead\n",
      "\n",
      "See the caveats in the documentation: https://pandas.pydata.org/pandas-docs/stable/user_guide/indexing.html#returning-a-view-versus-a-copy\n",
      "  \"\"\"Entry point for launching an IPython kernel.\n"
     ]
    }
   ],
   "source": [
    "training_data[\"Sex\"] = sex_encoded"
   ]
  },
  {
   "cell_type": "code",
   "execution_count": 17,
   "id": "82a731b6",
   "metadata": {
    "execution": {
     "iopub.execute_input": "2022-10-05T12:21:45.513140Z",
     "iopub.status.busy": "2022-10-05T12:21:45.512756Z",
     "iopub.status.idle": "2022-10-05T12:21:45.527018Z",
     "shell.execute_reply": "2022-10-05T12:21:45.525989Z"
    },
    "papermill": {
     "duration": 0.028182,
     "end_time": "2022-10-05T12:21:45.529053",
     "exception": false,
     "start_time": "2022-10-05T12:21:45.500871",
     "status": "completed"
    },
    "tags": []
   },
   "outputs": [
    {
     "data": {
      "text/html": [
       "<div>\n",
       "<style scoped>\n",
       "    .dataframe tbody tr th:only-of-type {\n",
       "        vertical-align: middle;\n",
       "    }\n",
       "\n",
       "    .dataframe tbody tr th {\n",
       "        vertical-align: top;\n",
       "    }\n",
       "\n",
       "    .dataframe thead th {\n",
       "        text-align: right;\n",
       "    }\n",
       "</style>\n",
       "<table border=\"1\" class=\"dataframe\">\n",
       "  <thead>\n",
       "    <tr style=\"text-align: right;\">\n",
       "      <th></th>\n",
       "      <th>Sex</th>\n",
       "      <th>Age</th>\n",
       "      <th>SibSp</th>\n",
       "      <th>Parch</th>\n",
       "      <th>Survived</th>\n",
       "    </tr>\n",
       "  </thead>\n",
       "  <tbody>\n",
       "    <tr>\n",
       "      <th>0</th>\n",
       "      <td>1</td>\n",
       "      <td>22.0</td>\n",
       "      <td>1</td>\n",
       "      <td>0</td>\n",
       "      <td>0</td>\n",
       "    </tr>\n",
       "    <tr>\n",
       "      <th>1</th>\n",
       "      <td>0</td>\n",
       "      <td>38.0</td>\n",
       "      <td>1</td>\n",
       "      <td>0</td>\n",
       "      <td>1</td>\n",
       "    </tr>\n",
       "    <tr>\n",
       "      <th>2</th>\n",
       "      <td>0</td>\n",
       "      <td>26.0</td>\n",
       "      <td>0</td>\n",
       "      <td>0</td>\n",
       "      <td>1</td>\n",
       "    </tr>\n",
       "    <tr>\n",
       "      <th>3</th>\n",
       "      <td>0</td>\n",
       "      <td>35.0</td>\n",
       "      <td>1</td>\n",
       "      <td>0</td>\n",
       "      <td>1</td>\n",
       "    </tr>\n",
       "    <tr>\n",
       "      <th>4</th>\n",
       "      <td>1</td>\n",
       "      <td>35.0</td>\n",
       "      <td>0</td>\n",
       "      <td>0</td>\n",
       "      <td>0</td>\n",
       "    </tr>\n",
       "    <tr>\n",
       "      <th>...</th>\n",
       "      <td>...</td>\n",
       "      <td>...</td>\n",
       "      <td>...</td>\n",
       "      <td>...</td>\n",
       "      <td>...</td>\n",
       "    </tr>\n",
       "    <tr>\n",
       "      <th>886</th>\n",
       "      <td>1</td>\n",
       "      <td>27.0</td>\n",
       "      <td>0</td>\n",
       "      <td>0</td>\n",
       "      <td>0</td>\n",
       "    </tr>\n",
       "    <tr>\n",
       "      <th>887</th>\n",
       "      <td>0</td>\n",
       "      <td>19.0</td>\n",
       "      <td>0</td>\n",
       "      <td>0</td>\n",
       "      <td>1</td>\n",
       "    </tr>\n",
       "    <tr>\n",
       "      <th>888</th>\n",
       "      <td>0</td>\n",
       "      <td>NaN</td>\n",
       "      <td>1</td>\n",
       "      <td>2</td>\n",
       "      <td>0</td>\n",
       "    </tr>\n",
       "    <tr>\n",
       "      <th>889</th>\n",
       "      <td>1</td>\n",
       "      <td>26.0</td>\n",
       "      <td>0</td>\n",
       "      <td>0</td>\n",
       "      <td>1</td>\n",
       "    </tr>\n",
       "    <tr>\n",
       "      <th>890</th>\n",
       "      <td>1</td>\n",
       "      <td>32.0</td>\n",
       "      <td>0</td>\n",
       "      <td>0</td>\n",
       "      <td>0</td>\n",
       "    </tr>\n",
       "  </tbody>\n",
       "</table>\n",
       "<p>891 rows × 5 columns</p>\n",
       "</div>"
      ],
      "text/plain": [
       "     Sex   Age  SibSp  Parch  Survived\n",
       "0      1  22.0      1      0         0\n",
       "1      0  38.0      1      0         1\n",
       "2      0  26.0      0      0         1\n",
       "3      0  35.0      1      0         1\n",
       "4      1  35.0      0      0         0\n",
       "..   ...   ...    ...    ...       ...\n",
       "886    1  27.0      0      0         0\n",
       "887    0  19.0      0      0         1\n",
       "888    0   NaN      1      2         0\n",
       "889    1  26.0      0      0         1\n",
       "890    1  32.0      0      0         0\n",
       "\n",
       "[891 rows x 5 columns]"
      ]
     },
     "execution_count": 17,
     "metadata": {},
     "output_type": "execute_result"
    }
   ],
   "source": [
    "training_data"
   ]
  },
  {
   "cell_type": "code",
   "execution_count": 18,
   "id": "7cb8276d",
   "metadata": {
    "execution": {
     "iopub.execute_input": "2022-10-05T12:21:45.553145Z",
     "iopub.status.busy": "2022-10-05T12:21:45.552770Z",
     "iopub.status.idle": "2022-10-05T12:21:45.560009Z",
     "shell.execute_reply": "2022-10-05T12:21:45.559039Z"
    },
    "papermill": {
     "duration": 0.021965,
     "end_time": "2022-10-05T12:21:45.562006",
     "exception": false,
     "start_time": "2022-10-05T12:21:45.540041",
     "status": "completed"
    },
    "tags": []
   },
   "outputs": [],
   "source": [
    "# fulfil missing data \n",
    "imputer=SimpleImputer(missing_values=np.nan, strategy='mean')\n",
    "training_data = imputer.fit_transform(training_data.to_numpy())\n",
    "training_data = pd.DataFrame(training_data, columns=[significant_features])"
   ]
  },
  {
   "cell_type": "code",
   "execution_count": 19,
   "id": "bdf8468a",
   "metadata": {
    "execution": {
     "iopub.execute_input": "2022-10-05T12:21:45.585131Z",
     "iopub.status.busy": "2022-10-05T12:21:45.584790Z",
     "iopub.status.idle": "2022-10-05T12:21:45.603186Z",
     "shell.execute_reply": "2022-10-05T12:21:45.602186Z"
    },
    "papermill": {
     "duration": 0.032314,
     "end_time": "2022-10-05T12:21:45.605261",
     "exception": false,
     "start_time": "2022-10-05T12:21:45.572947",
     "status": "completed"
    },
    "tags": []
   },
   "outputs": [
    {
     "data": {
      "text/html": [
       "<div>\n",
       "<style scoped>\n",
       "    .dataframe tbody tr th:only-of-type {\n",
       "        vertical-align: middle;\n",
       "    }\n",
       "\n",
       "    .dataframe tbody tr th {\n",
       "        vertical-align: top;\n",
       "    }\n",
       "\n",
       "    .dataframe thead tr th {\n",
       "        text-align: left;\n",
       "    }\n",
       "</style>\n",
       "<table border=\"1\" class=\"dataframe\">\n",
       "  <thead>\n",
       "    <tr>\n",
       "      <th></th>\n",
       "      <th>Sex</th>\n",
       "      <th>Age</th>\n",
       "      <th>SibSp</th>\n",
       "      <th>Parch</th>\n",
       "      <th>Survived</th>\n",
       "    </tr>\n",
       "  </thead>\n",
       "  <tbody>\n",
       "    <tr>\n",
       "      <th>0</th>\n",
       "      <td>1.0</td>\n",
       "      <td>22.000000</td>\n",
       "      <td>1.0</td>\n",
       "      <td>0.0</td>\n",
       "      <td>0.0</td>\n",
       "    </tr>\n",
       "    <tr>\n",
       "      <th>1</th>\n",
       "      <td>0.0</td>\n",
       "      <td>38.000000</td>\n",
       "      <td>1.0</td>\n",
       "      <td>0.0</td>\n",
       "      <td>1.0</td>\n",
       "    </tr>\n",
       "    <tr>\n",
       "      <th>2</th>\n",
       "      <td>0.0</td>\n",
       "      <td>26.000000</td>\n",
       "      <td>0.0</td>\n",
       "      <td>0.0</td>\n",
       "      <td>1.0</td>\n",
       "    </tr>\n",
       "    <tr>\n",
       "      <th>3</th>\n",
       "      <td>0.0</td>\n",
       "      <td>35.000000</td>\n",
       "      <td>1.0</td>\n",
       "      <td>0.0</td>\n",
       "      <td>1.0</td>\n",
       "    </tr>\n",
       "    <tr>\n",
       "      <th>4</th>\n",
       "      <td>1.0</td>\n",
       "      <td>35.000000</td>\n",
       "      <td>0.0</td>\n",
       "      <td>0.0</td>\n",
       "      <td>0.0</td>\n",
       "    </tr>\n",
       "    <tr>\n",
       "      <th>...</th>\n",
       "      <td>...</td>\n",
       "      <td>...</td>\n",
       "      <td>...</td>\n",
       "      <td>...</td>\n",
       "      <td>...</td>\n",
       "    </tr>\n",
       "    <tr>\n",
       "      <th>886</th>\n",
       "      <td>1.0</td>\n",
       "      <td>27.000000</td>\n",
       "      <td>0.0</td>\n",
       "      <td>0.0</td>\n",
       "      <td>0.0</td>\n",
       "    </tr>\n",
       "    <tr>\n",
       "      <th>887</th>\n",
       "      <td>0.0</td>\n",
       "      <td>19.000000</td>\n",
       "      <td>0.0</td>\n",
       "      <td>0.0</td>\n",
       "      <td>1.0</td>\n",
       "    </tr>\n",
       "    <tr>\n",
       "      <th>888</th>\n",
       "      <td>0.0</td>\n",
       "      <td>29.699118</td>\n",
       "      <td>1.0</td>\n",
       "      <td>2.0</td>\n",
       "      <td>0.0</td>\n",
       "    </tr>\n",
       "    <tr>\n",
       "      <th>889</th>\n",
       "      <td>1.0</td>\n",
       "      <td>26.000000</td>\n",
       "      <td>0.0</td>\n",
       "      <td>0.0</td>\n",
       "      <td>1.0</td>\n",
       "    </tr>\n",
       "    <tr>\n",
       "      <th>890</th>\n",
       "      <td>1.0</td>\n",
       "      <td>32.000000</td>\n",
       "      <td>0.0</td>\n",
       "      <td>0.0</td>\n",
       "      <td>0.0</td>\n",
       "    </tr>\n",
       "  </tbody>\n",
       "</table>\n",
       "<p>891 rows × 5 columns</p>\n",
       "</div>"
      ],
      "text/plain": [
       "     Sex        Age SibSp Parch Survived\n",
       "0    1.0  22.000000   1.0   0.0      0.0\n",
       "1    0.0  38.000000   1.0   0.0      1.0\n",
       "2    0.0  26.000000   0.0   0.0      1.0\n",
       "3    0.0  35.000000   1.0   0.0      1.0\n",
       "4    1.0  35.000000   0.0   0.0      0.0\n",
       "..   ...        ...   ...   ...      ...\n",
       "886  1.0  27.000000   0.0   0.0      0.0\n",
       "887  0.0  19.000000   0.0   0.0      1.0\n",
       "888  0.0  29.699118   1.0   2.0      0.0\n",
       "889  1.0  26.000000   0.0   0.0      1.0\n",
       "890  1.0  32.000000   0.0   0.0      0.0\n",
       "\n",
       "[891 rows x 5 columns]"
      ]
     },
     "execution_count": 19,
     "metadata": {},
     "output_type": "execute_result"
    }
   ],
   "source": [
    "training_data"
   ]
  },
  {
   "cell_type": "code",
   "execution_count": null,
   "id": "d1414ec9",
   "metadata": {
    "papermill": {
     "duration": 0.010765,
     "end_time": "2022-10-05T12:21:45.626960",
     "exception": false,
     "start_time": "2022-10-05T12:21:45.616195",
     "status": "completed"
    },
    "tags": []
   },
   "outputs": [],
   "source": []
  },
  {
   "cell_type": "code",
   "execution_count": 20,
   "id": "e953b53e",
   "metadata": {
    "execution": {
     "iopub.execute_input": "2022-10-05T12:21:45.650836Z",
     "iopub.status.busy": "2022-10-05T12:21:45.650442Z",
     "iopub.status.idle": "2022-10-05T12:21:45.672809Z",
     "shell.execute_reply": "2022-10-05T12:21:45.671730Z"
    },
    "papermill": {
     "duration": 0.036751,
     "end_time": "2022-10-05T12:21:45.674874",
     "exception": false,
     "start_time": "2022-10-05T12:21:45.638123",
     "status": "completed"
    },
    "tags": []
   },
   "outputs": [
    {
     "data": {
      "text/html": [
       "<div>\n",
       "<style scoped>\n",
       "    .dataframe tbody tr th:only-of-type {\n",
       "        vertical-align: middle;\n",
       "    }\n",
       "\n",
       "    .dataframe tbody tr th {\n",
       "        vertical-align: top;\n",
       "    }\n",
       "\n",
       "    .dataframe thead tr th {\n",
       "        text-align: left;\n",
       "    }\n",
       "</style>\n",
       "<table border=\"1\" class=\"dataframe\">\n",
       "  <thead>\n",
       "    <tr>\n",
       "      <th></th>\n",
       "      <th>Age</th>\n",
       "    </tr>\n",
       "  </thead>\n",
       "  <tbody>\n",
       "    <tr>\n",
       "      <th>0</th>\n",
       "      <td>-0.592481</td>\n",
       "    </tr>\n",
       "    <tr>\n",
       "      <th>1</th>\n",
       "      <td>0.638789</td>\n",
       "    </tr>\n",
       "    <tr>\n",
       "      <th>2</th>\n",
       "      <td>-0.284663</td>\n",
       "    </tr>\n",
       "    <tr>\n",
       "      <th>3</th>\n",
       "      <td>0.407926</td>\n",
       "    </tr>\n",
       "    <tr>\n",
       "      <th>4</th>\n",
       "      <td>0.407926</td>\n",
       "    </tr>\n",
       "    <tr>\n",
       "      <th>...</th>\n",
       "      <td>...</td>\n",
       "    </tr>\n",
       "    <tr>\n",
       "      <th>886</th>\n",
       "      <td>-0.207709</td>\n",
       "    </tr>\n",
       "    <tr>\n",
       "      <th>887</th>\n",
       "      <td>-0.823344</td>\n",
       "    </tr>\n",
       "    <tr>\n",
       "      <th>888</th>\n",
       "      <td>0.000000</td>\n",
       "    </tr>\n",
       "    <tr>\n",
       "      <th>889</th>\n",
       "      <td>-0.284663</td>\n",
       "    </tr>\n",
       "    <tr>\n",
       "      <th>890</th>\n",
       "      <td>0.177063</td>\n",
       "    </tr>\n",
       "  </tbody>\n",
       "</table>\n",
       "<p>891 rows × 1 columns</p>\n",
       "</div>"
      ],
      "text/plain": [
       "          Age\n",
       "0   -0.592481\n",
       "1    0.638789\n",
       "2   -0.284663\n",
       "3    0.407926\n",
       "4    0.407926\n",
       "..        ...\n",
       "886 -0.207709\n",
       "887 -0.823344\n",
       "888  0.000000\n",
       "889 -0.284663\n",
       "890  0.177063\n",
       "\n",
       "[891 rows x 1 columns]"
      ]
     },
     "execution_count": 20,
     "metadata": {},
     "output_type": "execute_result"
    }
   ],
   "source": [
    "# scale\n",
    "sc=StandardScaler()\n",
    "scaled_features = [\"Age\"]\n",
    "scaled_data = sc.fit_transform(training_data[scaled_features].to_numpy())\n",
    "scaled_data = pd.DataFrame(scaled_data, columns=[scaled_features])\n",
    "training_data[scaled_features] = scaled_data\n",
    "scaled_data"
   ]
  },
  {
   "cell_type": "code",
   "execution_count": null,
   "id": "7758ca09",
   "metadata": {
    "papermill": {
     "duration": 0.01123,
     "end_time": "2022-10-05T12:21:45.697827",
     "exception": false,
     "start_time": "2022-10-05T12:21:45.686597",
     "status": "completed"
    },
    "tags": []
   },
   "outputs": [],
   "source": []
  },
  {
   "cell_type": "code",
   "execution_count": 21,
   "id": "53956c9a",
   "metadata": {
    "execution": {
     "iopub.execute_input": "2022-10-05T12:21:45.721689Z",
     "iopub.status.busy": "2022-10-05T12:21:45.721071Z",
     "iopub.status.idle": "2022-10-05T12:21:45.737787Z",
     "shell.execute_reply": "2022-10-05T12:21:45.736869Z"
    },
    "papermill": {
     "duration": 0.03095,
     "end_time": "2022-10-05T12:21:45.739849",
     "exception": false,
     "start_time": "2022-10-05T12:21:45.708899",
     "status": "completed"
    },
    "tags": []
   },
   "outputs": [
    {
     "data": {
      "text/html": [
       "<div>\n",
       "<style scoped>\n",
       "    .dataframe tbody tr th:only-of-type {\n",
       "        vertical-align: middle;\n",
       "    }\n",
       "\n",
       "    .dataframe tbody tr th {\n",
       "        vertical-align: top;\n",
       "    }\n",
       "\n",
       "    .dataframe thead tr th {\n",
       "        text-align: left;\n",
       "    }\n",
       "</style>\n",
       "<table border=\"1\" class=\"dataframe\">\n",
       "  <thead>\n",
       "    <tr>\n",
       "      <th></th>\n",
       "      <th>Sex</th>\n",
       "      <th>Age</th>\n",
       "      <th>SibSp</th>\n",
       "      <th>Parch</th>\n",
       "      <th>Survived</th>\n",
       "    </tr>\n",
       "  </thead>\n",
       "  <tbody>\n",
       "    <tr>\n",
       "      <th>0</th>\n",
       "      <td>1.0</td>\n",
       "      <td>-0.592481</td>\n",
       "      <td>1.0</td>\n",
       "      <td>0.0</td>\n",
       "      <td>0.0</td>\n",
       "    </tr>\n",
       "    <tr>\n",
       "      <th>1</th>\n",
       "      <td>0.0</td>\n",
       "      <td>0.638789</td>\n",
       "      <td>1.0</td>\n",
       "      <td>0.0</td>\n",
       "      <td>1.0</td>\n",
       "    </tr>\n",
       "    <tr>\n",
       "      <th>2</th>\n",
       "      <td>0.0</td>\n",
       "      <td>-0.284663</td>\n",
       "      <td>0.0</td>\n",
       "      <td>0.0</td>\n",
       "      <td>1.0</td>\n",
       "    </tr>\n",
       "    <tr>\n",
       "      <th>3</th>\n",
       "      <td>0.0</td>\n",
       "      <td>0.407926</td>\n",
       "      <td>1.0</td>\n",
       "      <td>0.0</td>\n",
       "      <td>1.0</td>\n",
       "    </tr>\n",
       "    <tr>\n",
       "      <th>4</th>\n",
       "      <td>1.0</td>\n",
       "      <td>0.407926</td>\n",
       "      <td>0.0</td>\n",
       "      <td>0.0</td>\n",
       "      <td>0.0</td>\n",
       "    </tr>\n",
       "    <tr>\n",
       "      <th>...</th>\n",
       "      <td>...</td>\n",
       "      <td>...</td>\n",
       "      <td>...</td>\n",
       "      <td>...</td>\n",
       "      <td>...</td>\n",
       "    </tr>\n",
       "    <tr>\n",
       "      <th>886</th>\n",
       "      <td>1.0</td>\n",
       "      <td>-0.207709</td>\n",
       "      <td>0.0</td>\n",
       "      <td>0.0</td>\n",
       "      <td>0.0</td>\n",
       "    </tr>\n",
       "    <tr>\n",
       "      <th>887</th>\n",
       "      <td>0.0</td>\n",
       "      <td>-0.823344</td>\n",
       "      <td>0.0</td>\n",
       "      <td>0.0</td>\n",
       "      <td>1.0</td>\n",
       "    </tr>\n",
       "    <tr>\n",
       "      <th>888</th>\n",
       "      <td>0.0</td>\n",
       "      <td>0.000000</td>\n",
       "      <td>1.0</td>\n",
       "      <td>2.0</td>\n",
       "      <td>0.0</td>\n",
       "    </tr>\n",
       "    <tr>\n",
       "      <th>889</th>\n",
       "      <td>1.0</td>\n",
       "      <td>-0.284663</td>\n",
       "      <td>0.0</td>\n",
       "      <td>0.0</td>\n",
       "      <td>1.0</td>\n",
       "    </tr>\n",
       "    <tr>\n",
       "      <th>890</th>\n",
       "      <td>1.0</td>\n",
       "      <td>0.177063</td>\n",
       "      <td>0.0</td>\n",
       "      <td>0.0</td>\n",
       "      <td>0.0</td>\n",
       "    </tr>\n",
       "  </tbody>\n",
       "</table>\n",
       "<p>891 rows × 5 columns</p>\n",
       "</div>"
      ],
      "text/plain": [
       "     Sex       Age SibSp Parch Survived\n",
       "0    1.0 -0.592481   1.0   0.0      0.0\n",
       "1    0.0  0.638789   1.0   0.0      1.0\n",
       "2    0.0 -0.284663   0.0   0.0      1.0\n",
       "3    0.0  0.407926   1.0   0.0      1.0\n",
       "4    1.0  0.407926   0.0   0.0      0.0\n",
       "..   ...       ...   ...   ...      ...\n",
       "886  1.0 -0.207709   0.0   0.0      0.0\n",
       "887  0.0 -0.823344   0.0   0.0      1.0\n",
       "888  0.0  0.000000   1.0   2.0      0.0\n",
       "889  1.0 -0.284663   0.0   0.0      1.0\n",
       "890  1.0  0.177063   0.0   0.0      0.0\n",
       "\n",
       "[891 rows x 5 columns]"
      ]
     },
     "execution_count": 21,
     "metadata": {},
     "output_type": "execute_result"
    }
   ],
   "source": [
    "training_data"
   ]
  },
  {
   "cell_type": "code",
   "execution_count": 22,
   "id": "45ee7a3a",
   "metadata": {
    "execution": {
     "iopub.execute_input": "2022-10-05T12:21:45.764365Z",
     "iopub.status.busy": "2022-10-05T12:21:45.763982Z",
     "iopub.status.idle": "2022-10-05T12:21:45.771097Z",
     "shell.execute_reply": "2022-10-05T12:21:45.770110Z"
    },
    "papermill": {
     "duration": 0.02188,
     "end_time": "2022-10-05T12:21:45.773197",
     "exception": false,
     "start_time": "2022-10-05T12:21:45.751317",
     "status": "completed"
    },
    "tags": []
   },
   "outputs": [],
   "source": [
    "# split data\n",
    "# features = training_data.drop(columns=[\"Survived\"], axis=1).to_numpy()\n",
    "features = training_data[[\"Sex\", \"Age\", \"SibSp\",\"Parch\"]].to_numpy()\n",
    "\n",
    "targets = training_data[\"Survived\"].to_numpy()"
   ]
  },
  {
   "cell_type": "code",
   "execution_count": 23,
   "id": "f592ed30",
   "metadata": {
    "execution": {
     "iopub.execute_input": "2022-10-05T12:21:45.797984Z",
     "iopub.status.busy": "2022-10-05T12:21:45.797573Z",
     "iopub.status.idle": "2022-10-05T12:21:45.804343Z",
     "shell.execute_reply": "2022-10-05T12:21:45.803348Z"
    },
    "papermill": {
     "duration": 0.021535,
     "end_time": "2022-10-05T12:21:45.806358",
     "exception": false,
     "start_time": "2022-10-05T12:21:45.784823",
     "status": "completed"
    },
    "tags": []
   },
   "outputs": [
    {
     "data": {
      "text/plain": [
       "array([[ 1.        , -0.5924806 ,  1.        ,  0.        ],\n",
       "       [ 0.        ,  0.63878901,  1.        ,  0.        ],\n",
       "       [ 0.        , -0.2846632 ,  0.        ,  0.        ],\n",
       "       ...,\n",
       "       [ 0.        ,  0.        ,  1.        ,  2.        ],\n",
       "       [ 1.        , -0.2846632 ,  0.        ,  0.        ],\n",
       "       [ 1.        ,  0.17706291,  0.        ,  0.        ]])"
      ]
     },
     "execution_count": 23,
     "metadata": {},
     "output_type": "execute_result"
    }
   ],
   "source": [
    "features"
   ]
  },
  {
   "cell_type": "code",
   "execution_count": 24,
   "id": "c89e134f",
   "metadata": {
    "execution": {
     "iopub.execute_input": "2022-10-05T12:21:45.831387Z",
     "iopub.status.busy": "2022-10-05T12:21:45.830993Z",
     "iopub.status.idle": "2022-10-05T12:21:45.835526Z",
     "shell.execute_reply": "2022-10-05T12:21:45.834575Z"
    },
    "papermill": {
     "duration": 0.019348,
     "end_time": "2022-10-05T12:21:45.837467",
     "exception": false,
     "start_time": "2022-10-05T12:21:45.818119",
     "status": "completed"
    },
    "tags": []
   },
   "outputs": [],
   "source": [
    "targets=targets.reshape(-1,)"
   ]
  },
  {
   "cell_type": "code",
   "execution_count": 25,
   "id": "be777753",
   "metadata": {
    "execution": {
     "iopub.execute_input": "2022-10-05T12:21:45.862068Z",
     "iopub.status.busy": "2022-10-05T12:21:45.861699Z",
     "iopub.status.idle": "2022-10-05T12:21:46.256707Z",
     "shell.execute_reply": "2022-10-05T12:21:46.255301Z"
    },
    "papermill": {
     "duration": 0.409828,
     "end_time": "2022-10-05T12:21:46.259051",
     "exception": false,
     "start_time": "2022-10-05T12:21:45.849223",
     "status": "completed"
    },
    "tags": []
   },
   "outputs": [
    {
     "data": {
      "text/plain": [
       "RandomForestClassifier(max_depth=4, n_estimators=200, n_jobs=2, random_state=2)"
      ]
     },
     "execution_count": 25,
     "metadata": {},
     "output_type": "execute_result"
    }
   ],
   "source": [
    "\n",
    "# model = RandomForestClassifier(\n",
    "#     n_estimators=100, max_depth=3, random_state=2)\n",
    "model = RandomForestClassifier(bootstrap=True, class_weight=None, criterion='gini',\n",
    "            max_depth=4, max_features='auto', max_leaf_nodes=None,\n",
    "            min_impurity_decrease=0.0,\n",
    "            min_samples_leaf=1, min_samples_split=2,\n",
    "            min_weight_fraction_leaf=0.0, n_estimators=200, n_jobs=2,\n",
    "            oob_score=False, random_state=2, verbose=0,\n",
    "            warm_start=False)\n",
    "model.fit(features, targets)\n"
   ]
  },
  {
   "cell_type": "code",
   "execution_count": 26,
   "id": "b2005405",
   "metadata": {
    "execution": {
     "iopub.execute_input": "2022-10-05T12:21:46.284248Z",
     "iopub.status.busy": "2022-10-05T12:21:46.283874Z",
     "iopub.status.idle": "2022-10-05T12:21:46.391891Z",
     "shell.execute_reply": "2022-10-05T12:21:46.391048Z"
    },
    "papermill": {
     "duration": 0.123039,
     "end_time": "2022-10-05T12:21:46.394001",
     "exception": false,
     "start_time": "2022-10-05T12:21:46.270962",
     "status": "completed"
    },
    "tags": []
   },
   "outputs": [
    {
     "data": {
      "text/plain": [
       "array([0.69562114, 0.13819579, 0.10747172, 0.05871135])"
      ]
     },
     "execution_count": 26,
     "metadata": {},
     "output_type": "execute_result"
    }
   ],
   "source": [
    "model.feature_importances_"
   ]
  },
  {
   "cell_type": "code",
   "execution_count": 27,
   "id": "1d8d4e50",
   "metadata": {
    "execution": {
     "iopub.execute_input": "2022-10-05T12:21:46.419690Z",
     "iopub.status.busy": "2022-10-05T12:21:46.419263Z",
     "iopub.status.idle": "2022-10-05T12:21:46.429138Z",
     "shell.execute_reply": "2022-10-05T12:21:46.428436Z"
    },
    "papermill": {
     "duration": 0.024582,
     "end_time": "2022-10-05T12:21:46.430882",
     "exception": false,
     "start_time": "2022-10-05T12:21:46.406300",
     "status": "completed"
    },
    "tags": []
   },
   "outputs": [],
   "source": [
    "def pipeline(data, Target, significant_features, scale_features, encode_features, train=True):\n",
    "\n",
    "    # Select features\n",
    "    data = data[significant_features]\n",
    "    \n",
    "    print(\"Missing:\\n\", data.isnull().sum())\n",
    "    print(\"total: \", data.shape[0])\n",
    "    \n",
    "    X, y = None, None\n",
    "\n",
    "    if train :\n",
    "        # Slect Features and Target from data frame\n",
    "        X = data.drop(axis=1, columns=Target).to_numpy()\n",
    "        y = data[Target].to_numpy()\n",
    "        significant_features.pop(significant_features.index(Target))\n",
    "\n",
    "    else:\n",
    "        X = data\n",
    "    \n",
    "    X_features = significant_features\n",
    "\n",
    "    # encode Categorical feature\n",
    "    le=LabelEncoder()\n",
    "    \n",
    "    encoded = le.fit_transform(X[encode_features])\n",
    "    X[encode_features] = encoded\n",
    "\n",
    "\n",
    "    # fulfil missing data \n",
    "    imputer=SimpleImputer(missing_values=np.nan, strategy='mean')\n",
    "    X = imputer.fit_transform(X.to_numpy())\n",
    "    X = pd.DataFrame(X, columns=[X_features])\n",
    "\n",
    "    # scale\n",
    "    sc=StandardScaler()\n",
    "    scaled_features = scale_features\n",
    "    scaled_data = sc.fit_transform(X[scaled_features].to_numpy())\n",
    "    scaled_data = pd.DataFrame(scaled_data, columns=[scaled_features])\n",
    "    X[scaled_features] = scaled_data  \n",
    "    \n",
    "    if y != None:\n",
    "        y.reshape(-1, )\n",
    "        \n",
    "    return X, y"
   ]
  },
  {
   "cell_type": "code",
   "execution_count": 28,
   "id": "89147791",
   "metadata": {
    "execution": {
     "iopub.execute_input": "2022-10-05T12:21:46.457712Z",
     "iopub.status.busy": "2022-10-05T12:21:46.456954Z",
     "iopub.status.idle": "2022-10-05T12:21:46.474372Z",
     "shell.execute_reply": "2022-10-05T12:21:46.473031Z"
    },
    "papermill": {
     "duration": 0.033616,
     "end_time": "2022-10-05T12:21:46.476852",
     "exception": false,
     "start_time": "2022-10-05T12:21:46.443236",
     "status": "completed"
    },
    "tags": []
   },
   "outputs": [
    {
     "name": "stdout",
     "output_type": "stream",
     "text": [
      "Missing:\n",
      " Sex       0\n",
      "Age      86\n",
      "SibSp     0\n",
      "Parch     0\n",
      "dtype: int64\n",
      "total:  418\n"
     ]
    },
    {
     "name": "stderr",
     "output_type": "stream",
     "text": [
      "/opt/conda/lib/python3.7/site-packages/ipykernel_launcher.py:26: SettingWithCopyWarning: \n",
      "A value is trying to be set on a copy of a slice from a DataFrame.\n",
      "Try using .loc[row_indexer,col_indexer] = value instead\n",
      "\n",
      "See the caveats in the documentation: https://pandas.pydata.org/pandas-docs/stable/user_guide/indexing.html#returning-a-view-versus-a-copy\n"
     ]
    }
   ],
   "source": [
    "X_pred, _ = pipeline(test_data_frame, Target=\"\", \n",
    "                significant_features= [\"Sex\", \"Age\", \"SibSp\",\"Parch\"], \n",
    "                scale_features=[\"Age\"], \n",
    "                encode_features=\"Sex\", train=False)"
   ]
  },
  {
   "cell_type": "code",
   "execution_count": 29,
   "id": "a6043925",
   "metadata": {
    "execution": {
     "iopub.execute_input": "2022-10-05T12:21:46.502533Z",
     "iopub.status.busy": "2022-10-05T12:21:46.502131Z",
     "iopub.status.idle": "2022-10-05T12:21:46.518875Z",
     "shell.execute_reply": "2022-10-05T12:21:46.517838Z"
    },
    "papermill": {
     "duration": 0.032135,
     "end_time": "2022-10-05T12:21:46.521043",
     "exception": false,
     "start_time": "2022-10-05T12:21:46.488908",
     "status": "completed"
    },
    "tags": []
   },
   "outputs": [
    {
     "data": {
      "text/html": [
       "<div>\n",
       "<style scoped>\n",
       "    .dataframe tbody tr th:only-of-type {\n",
       "        vertical-align: middle;\n",
       "    }\n",
       "\n",
       "    .dataframe tbody tr th {\n",
       "        vertical-align: top;\n",
       "    }\n",
       "\n",
       "    .dataframe thead tr th {\n",
       "        text-align: left;\n",
       "    }\n",
       "</style>\n",
       "<table border=\"1\" class=\"dataframe\">\n",
       "  <thead>\n",
       "    <tr>\n",
       "      <th></th>\n",
       "      <th>Sex</th>\n",
       "      <th>Age</th>\n",
       "      <th>SibSp</th>\n",
       "      <th>Parch</th>\n",
       "    </tr>\n",
       "  </thead>\n",
       "  <tbody>\n",
       "    <tr>\n",
       "      <th>0</th>\n",
       "      <td>1.0</td>\n",
       "      <td>0.334993</td>\n",
       "      <td>0.0</td>\n",
       "      <td>0.0</td>\n",
       "    </tr>\n",
       "    <tr>\n",
       "      <th>1</th>\n",
       "      <td>0.0</td>\n",
       "      <td>1.325530</td>\n",
       "      <td>1.0</td>\n",
       "      <td>0.0</td>\n",
       "    </tr>\n",
       "    <tr>\n",
       "      <th>2</th>\n",
       "      <td>1.0</td>\n",
       "      <td>2.514175</td>\n",
       "      <td>0.0</td>\n",
       "      <td>0.0</td>\n",
       "    </tr>\n",
       "    <tr>\n",
       "      <th>3</th>\n",
       "      <td>1.0</td>\n",
       "      <td>-0.259330</td>\n",
       "      <td>0.0</td>\n",
       "      <td>0.0</td>\n",
       "    </tr>\n",
       "    <tr>\n",
       "      <th>4</th>\n",
       "      <td>0.0</td>\n",
       "      <td>-0.655545</td>\n",
       "      <td>1.0</td>\n",
       "      <td>1.0</td>\n",
       "    </tr>\n",
       "    <tr>\n",
       "      <th>...</th>\n",
       "      <td>...</td>\n",
       "      <td>...</td>\n",
       "      <td>...</td>\n",
       "      <td>...</td>\n",
       "    </tr>\n",
       "    <tr>\n",
       "      <th>413</th>\n",
       "      <td>1.0</td>\n",
       "      <td>0.000000</td>\n",
       "      <td>0.0</td>\n",
       "      <td>0.0</td>\n",
       "    </tr>\n",
       "    <tr>\n",
       "      <th>414</th>\n",
       "      <td>0.0</td>\n",
       "      <td>0.691586</td>\n",
       "      <td>0.0</td>\n",
       "      <td>0.0</td>\n",
       "    </tr>\n",
       "    <tr>\n",
       "      <th>415</th>\n",
       "      <td>1.0</td>\n",
       "      <td>0.651965</td>\n",
       "      <td>0.0</td>\n",
       "      <td>0.0</td>\n",
       "    </tr>\n",
       "    <tr>\n",
       "      <th>416</th>\n",
       "      <td>1.0</td>\n",
       "      <td>0.000000</td>\n",
       "      <td>0.0</td>\n",
       "      <td>0.0</td>\n",
       "    </tr>\n",
       "    <tr>\n",
       "      <th>417</th>\n",
       "      <td>1.0</td>\n",
       "      <td>0.000000</td>\n",
       "      <td>1.0</td>\n",
       "      <td>1.0</td>\n",
       "    </tr>\n",
       "  </tbody>\n",
       "</table>\n",
       "<p>418 rows × 4 columns</p>\n",
       "</div>"
      ],
      "text/plain": [
       "     Sex       Age SibSp Parch\n",
       "0    1.0  0.334993   0.0   0.0\n",
       "1    0.0  1.325530   1.0   0.0\n",
       "2    1.0  2.514175   0.0   0.0\n",
       "3    1.0 -0.259330   0.0   0.0\n",
       "4    0.0 -0.655545   1.0   1.0\n",
       "..   ...       ...   ...   ...\n",
       "413  1.0  0.000000   0.0   0.0\n",
       "414  0.0  0.691586   0.0   0.0\n",
       "415  1.0  0.651965   0.0   0.0\n",
       "416  1.0  0.000000   0.0   0.0\n",
       "417  1.0  0.000000   1.0   1.0\n",
       "\n",
       "[418 rows x 4 columns]"
      ]
     },
     "execution_count": 29,
     "metadata": {},
     "output_type": "execute_result"
    }
   ],
   "source": [
    "X_pred"
   ]
  },
  {
   "cell_type": "code",
   "execution_count": 30,
   "id": "dd96c69f",
   "metadata": {
    "execution": {
     "iopub.execute_input": "2022-10-05T12:21:46.547285Z",
     "iopub.status.busy": "2022-10-05T12:21:46.546628Z",
     "iopub.status.idle": "2022-10-05T12:21:46.658448Z",
     "shell.execute_reply": "2022-10-05T12:21:46.657247Z"
    },
    "papermill": {
     "duration": 0.128295,
     "end_time": "2022-10-05T12:21:46.661659",
     "exception": false,
     "start_time": "2022-10-05T12:21:46.533364",
     "status": "completed"
    },
    "tags": []
   },
   "outputs": [
    {
     "name": "stderr",
     "output_type": "stream",
     "text": [
      "/opt/conda/lib/python3.7/site-packages/sklearn/utils/validation.py:1692: FutureWarning: Feature names only support names that are all strings. Got feature names with dtypes: ['tuple']. An error will be raised in 1.2.\n",
      "  FutureWarning,\n"
     ]
    }
   ],
   "source": [
    "output = model.predict(X_pred)"
   ]
  },
  {
   "cell_type": "code",
   "execution_count": 31,
   "id": "e8e5e291",
   "metadata": {
    "execution": {
     "iopub.execute_input": "2022-10-05T12:21:46.690420Z",
     "iopub.status.busy": "2022-10-05T12:21:46.689622Z",
     "iopub.status.idle": "2022-10-05T12:21:46.697763Z",
     "shell.execute_reply": "2022-10-05T12:21:46.696743Z"
    },
    "papermill": {
     "duration": 0.024122,
     "end_time": "2022-10-05T12:21:46.699801",
     "exception": false,
     "start_time": "2022-10-05T12:21:46.675679",
     "status": "completed"
    },
    "tags": []
   },
   "outputs": [
    {
     "data": {
      "text/plain": [
       "array([0, 1, 0, 0, 1, 0, 1, 0, 1, 0, 0, 0, 1, 0, 1, 1, 0, 0, 1, 1, 0, 1,\n",
       "       1, 0, 1, 0, 1, 0, 0, 0, 0, 0, 1, 1, 0, 0, 1, 1, 0, 0, 0, 0, 0, 1,\n",
       "       1, 0, 0, 0, 1, 1, 0, 0, 1, 0, 0, 0, 0, 0, 0, 1, 0, 0, 0, 1, 0, 1,\n",
       "       1, 0, 0, 0, 1, 0, 1, 0, 1, 0, 0, 1, 0, 1, 1, 0, 0, 0, 0, 0, 1, 1,\n",
       "       1, 1, 1, 0, 1, 0, 0, 0, 1, 0, 1, 0, 1, 0, 0, 0, 1, 0, 0, 0, 0, 0,\n",
       "       0, 1, 1, 1, 1, 0, 0, 1, 0, 1, 1, 0, 1, 0, 0, 1, 0, 1, 0, 0, 0, 0,\n",
       "       0, 0, 0, 0, 0, 0, 1, 0, 0, 1, 0, 0, 0, 0, 0, 0, 0, 0, 1, 0, 0, 1,\n",
       "       0, 0, 1, 1, 0, 1, 1, 1, 1, 0, 0, 1, 0, 0, 1, 1, 0, 0, 0, 0, 0, 1,\n",
       "       1, 0, 1, 1, 0, 0, 1, 0, 1, 0, 1, 0, 0, 0, 0, 0, 0, 0, 1, 0, 1, 1,\n",
       "       0, 1, 1, 1, 0, 1, 0, 0, 1, 0, 1, 0, 0, 0, 0, 1, 0, 0, 1, 0, 1, 0,\n",
       "       1, 0, 1, 0, 1, 1, 0, 1, 0, 0, 0, 1, 0, 0, 0, 0, 0, 0, 1, 1, 1, 1,\n",
       "       0, 0, 0, 0, 1, 0, 1, 1, 1, 0, 0, 0, 0, 0, 0, 0, 1, 0, 0, 0, 1, 1,\n",
       "       0, 0, 0, 0, 1, 0, 0, 0, 1, 1, 0, 1, 0, 0, 0, 0, 1, 1, 1, 1, 1, 0,\n",
       "       0, 0, 0, 0, 0, 1, 0, 0, 0, 0, 1, 0, 0, 0, 0, 0, 0, 0, 1, 1, 0, 1,\n",
       "       0, 1, 0, 0, 0, 1, 1, 1, 0, 0, 0, 0, 0, 0, 0, 0, 1, 0, 1, 0, 0, 0,\n",
       "       1, 0, 0, 1, 0, 0, 0, 0, 0, 0, 0, 0, 0, 1, 0, 1, 0, 1, 0, 1, 1, 0,\n",
       "       0, 0, 1, 0, 1, 0, 0, 1, 0, 1, 1, 0, 1, 0, 0, 1, 1, 0, 0, 1, 0, 0,\n",
       "       1, 1, 1, 0, 0, 0, 0, 0, 1, 1, 0, 1, 0, 0, 0, 0, 0, 1, 0, 0, 0, 1,\n",
       "       0, 1, 0, 0, 1, 0, 1, 0, 0, 0, 0, 0, 1, 1, 1, 1, 1, 0, 1, 0, 0, 0])"
      ]
     },
     "execution_count": 31,
     "metadata": {},
     "output_type": "execute_result"
    }
   ],
   "source": [
    "output = output.astype(\"int64\")\n",
    "output"
   ]
  },
  {
   "cell_type": "code",
   "execution_count": 32,
   "id": "053f3fb4",
   "metadata": {
    "execution": {
     "iopub.execute_input": "2022-10-05T12:21:46.726395Z",
     "iopub.status.busy": "2022-10-05T12:21:46.726009Z",
     "iopub.status.idle": "2022-10-05T12:21:46.733066Z",
     "shell.execute_reply": "2022-10-05T12:21:46.732359Z"
    },
    "papermill": {
     "duration": 0.022941,
     "end_time": "2022-10-05T12:21:46.735048",
     "exception": false,
     "start_time": "2022-10-05T12:21:46.712107",
     "status": "completed"
    },
    "tags": []
   },
   "outputs": [
    {
     "data": {
      "text/plain": [
       "array([ 892,  893,  894,  895,  896,  897,  898,  899,  900,  901,  902,\n",
       "        903,  904,  905,  906,  907,  908,  909,  910,  911,  912,  913,\n",
       "        914,  915,  916,  917,  918,  919,  920,  921,  922,  923,  924,\n",
       "        925,  926,  927,  928,  929,  930,  931,  932,  933,  934,  935,\n",
       "        936,  937,  938,  939,  940,  941,  942,  943,  944,  945,  946,\n",
       "        947,  948,  949,  950,  951,  952,  953,  954,  955,  956,  957,\n",
       "        958,  959,  960,  961,  962,  963,  964,  965,  966,  967,  968,\n",
       "        969,  970,  971,  972,  973,  974,  975,  976,  977,  978,  979,\n",
       "        980,  981,  982,  983,  984,  985,  986,  987,  988,  989,  990,\n",
       "        991,  992,  993,  994,  995,  996,  997,  998,  999, 1000, 1001,\n",
       "       1002, 1003, 1004, 1005, 1006, 1007, 1008, 1009, 1010, 1011, 1012,\n",
       "       1013, 1014, 1015, 1016, 1017, 1018, 1019, 1020, 1021, 1022, 1023,\n",
       "       1024, 1025, 1026, 1027, 1028, 1029, 1030, 1031, 1032, 1033, 1034,\n",
       "       1035, 1036, 1037, 1038, 1039, 1040, 1041, 1042, 1043, 1044, 1045,\n",
       "       1046, 1047, 1048, 1049, 1050, 1051, 1052, 1053, 1054, 1055, 1056,\n",
       "       1057, 1058, 1059, 1060, 1061, 1062, 1063, 1064, 1065, 1066, 1067,\n",
       "       1068, 1069, 1070, 1071, 1072, 1073, 1074, 1075, 1076, 1077, 1078,\n",
       "       1079, 1080, 1081, 1082, 1083, 1084, 1085, 1086, 1087, 1088, 1089,\n",
       "       1090, 1091, 1092, 1093, 1094, 1095, 1096, 1097, 1098, 1099, 1100,\n",
       "       1101, 1102, 1103, 1104, 1105, 1106, 1107, 1108, 1109, 1110, 1111,\n",
       "       1112, 1113, 1114, 1115, 1116, 1117, 1118, 1119, 1120, 1121, 1122,\n",
       "       1123, 1124, 1125, 1126, 1127, 1128, 1129, 1130, 1131, 1132, 1133,\n",
       "       1134, 1135, 1136, 1137, 1138, 1139, 1140, 1141, 1142, 1143, 1144,\n",
       "       1145, 1146, 1147, 1148, 1149, 1150, 1151, 1152, 1153, 1154, 1155,\n",
       "       1156, 1157, 1158, 1159, 1160, 1161, 1162, 1163, 1164, 1165, 1166,\n",
       "       1167, 1168, 1169, 1170, 1171, 1172, 1173, 1174, 1175, 1176, 1177,\n",
       "       1178, 1179, 1180, 1181, 1182, 1183, 1184, 1185, 1186, 1187, 1188,\n",
       "       1189, 1190, 1191, 1192, 1193, 1194, 1195, 1196, 1197, 1198, 1199,\n",
       "       1200, 1201, 1202, 1203, 1204, 1205, 1206, 1207, 1208, 1209, 1210,\n",
       "       1211, 1212, 1213, 1214, 1215, 1216, 1217, 1218, 1219, 1220, 1221,\n",
       "       1222, 1223, 1224, 1225, 1226, 1227, 1228, 1229, 1230, 1231, 1232,\n",
       "       1233, 1234, 1235, 1236, 1237, 1238, 1239, 1240, 1241, 1242, 1243,\n",
       "       1244, 1245, 1246, 1247, 1248, 1249, 1250, 1251, 1252, 1253, 1254,\n",
       "       1255, 1256, 1257, 1258, 1259, 1260, 1261, 1262, 1263, 1264, 1265,\n",
       "       1266, 1267, 1268, 1269, 1270, 1271, 1272, 1273, 1274, 1275, 1276,\n",
       "       1277, 1278, 1279, 1280, 1281, 1282, 1283, 1284, 1285, 1286, 1287,\n",
       "       1288, 1289, 1290, 1291, 1292, 1293, 1294, 1295, 1296, 1297, 1298,\n",
       "       1299, 1300, 1301, 1302, 1303, 1304, 1305, 1306, 1307, 1308, 1309])"
      ]
     },
     "execution_count": 32,
     "metadata": {},
     "output_type": "execute_result"
    }
   ],
   "source": [
    "PassengerId = np.array(test_data_frame[\"PassengerId\"])\n",
    "PassengerId\n"
   ]
  },
  {
   "cell_type": "code",
   "execution_count": 33,
   "id": "da7456d0",
   "metadata": {
    "execution": {
     "iopub.execute_input": "2022-10-05T12:21:46.762252Z",
     "iopub.status.busy": "2022-10-05T12:21:46.761680Z",
     "iopub.status.idle": "2022-10-05T12:21:46.771884Z",
     "shell.execute_reply": "2022-10-05T12:21:46.770920Z"
    },
    "papermill": {
     "duration": 0.025953,
     "end_time": "2022-10-05T12:21:46.773830",
     "exception": false,
     "start_time": "2022-10-05T12:21:46.747877",
     "status": "completed"
    },
    "tags": []
   },
   "outputs": [
    {
     "data": {
      "text/html": [
       "<div>\n",
       "<style scoped>\n",
       "    .dataframe tbody tr th:only-of-type {\n",
       "        vertical-align: middle;\n",
       "    }\n",
       "\n",
       "    .dataframe tbody tr th {\n",
       "        vertical-align: top;\n",
       "    }\n",
       "\n",
       "    .dataframe thead th {\n",
       "        text-align: right;\n",
       "    }\n",
       "</style>\n",
       "<table border=\"1\" class=\"dataframe\">\n",
       "  <thead>\n",
       "    <tr style=\"text-align: right;\">\n",
       "      <th></th>\n",
       "      <th>PassengerId</th>\n",
       "      <th>Survived</th>\n",
       "    </tr>\n",
       "  </thead>\n",
       "  <tbody>\n",
       "    <tr>\n",
       "      <th>0</th>\n",
       "      <td>892</td>\n",
       "      <td>0</td>\n",
       "    </tr>\n",
       "    <tr>\n",
       "      <th>1</th>\n",
       "      <td>893</td>\n",
       "      <td>1</td>\n",
       "    </tr>\n",
       "    <tr>\n",
       "      <th>2</th>\n",
       "      <td>894</td>\n",
       "      <td>0</td>\n",
       "    </tr>\n",
       "    <tr>\n",
       "      <th>3</th>\n",
       "      <td>895</td>\n",
       "      <td>0</td>\n",
       "    </tr>\n",
       "    <tr>\n",
       "      <th>4</th>\n",
       "      <td>896</td>\n",
       "      <td>1</td>\n",
       "    </tr>\n",
       "    <tr>\n",
       "      <th>...</th>\n",
       "      <td>...</td>\n",
       "      <td>...</td>\n",
       "    </tr>\n",
       "    <tr>\n",
       "      <th>413</th>\n",
       "      <td>1305</td>\n",
       "      <td>0</td>\n",
       "    </tr>\n",
       "    <tr>\n",
       "      <th>414</th>\n",
       "      <td>1306</td>\n",
       "      <td>1</td>\n",
       "    </tr>\n",
       "    <tr>\n",
       "      <th>415</th>\n",
       "      <td>1307</td>\n",
       "      <td>0</td>\n",
       "    </tr>\n",
       "    <tr>\n",
       "      <th>416</th>\n",
       "      <td>1308</td>\n",
       "      <td>0</td>\n",
       "    </tr>\n",
       "    <tr>\n",
       "      <th>417</th>\n",
       "      <td>1309</td>\n",
       "      <td>0</td>\n",
       "    </tr>\n",
       "  </tbody>\n",
       "</table>\n",
       "<p>418 rows × 2 columns</p>\n",
       "</div>"
      ],
      "text/plain": [
       "     PassengerId  Survived\n",
       "0            892         0\n",
       "1            893         1\n",
       "2            894         0\n",
       "3            895         0\n",
       "4            896         1\n",
       "..           ...       ...\n",
       "413         1305         0\n",
       "414         1306         1\n",
       "415         1307         0\n",
       "416         1308         0\n",
       "417         1309         0\n",
       "\n",
       "[418 rows x 2 columns]"
      ]
     },
     "execution_count": 33,
     "metadata": {},
     "output_type": "execute_result"
    }
   ],
   "source": [
    "df = pd.DataFrame({\"PassengerId\": PassengerId,\"Survived\": output})\n",
    "df"
   ]
  },
  {
   "cell_type": "code",
   "execution_count": 34,
   "id": "e16c107e",
   "metadata": {
    "execution": {
     "iopub.execute_input": "2022-10-05T12:21:46.801083Z",
     "iopub.status.busy": "2022-10-05T12:21:46.800565Z",
     "iopub.status.idle": "2022-10-05T12:21:46.807370Z",
     "shell.execute_reply": "2022-10-05T12:21:46.806759Z"
    },
    "papermill": {
     "duration": 0.022709,
     "end_time": "2022-10-05T12:21:46.809347",
     "exception": false,
     "start_time": "2022-10-05T12:21:46.786638",
     "status": "completed"
    },
    "tags": []
   },
   "outputs": [],
   "source": [
    "df.to_csv('submission.csv', index=False)"
   ]
  }
 ],
 "metadata": {
  "kernelspec": {
   "display_name": "Python 3",
   "language": "python",
   "name": "python3"
  },
  "language_info": {
   "codemirror_mode": {
    "name": "ipython",
    "version": 3
   },
   "file_extension": ".py",
   "mimetype": "text/x-python",
   "name": "python",
   "nbconvert_exporter": "python",
   "pygments_lexer": "ipython3",
   "version": "3.7.12"
  },
  "papermill": {
   "default_parameters": {},
   "duration": 14.310663,
   "end_time": "2022-10-05T12:21:47.541106",
   "environment_variables": {},
   "exception": null,
   "input_path": "__notebook__.ipynb",
   "output_path": "__notebook__.ipynb",
   "parameters": {},
   "start_time": "2022-10-05T12:21:33.230443",
   "version": "2.3.4"
  }
 },
 "nbformat": 4,
 "nbformat_minor": 5
}
